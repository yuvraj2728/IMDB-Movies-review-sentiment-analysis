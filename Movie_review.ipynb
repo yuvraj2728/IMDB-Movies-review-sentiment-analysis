{
  "nbformat": 4,
  "nbformat_minor": 0,
  "metadata": {
    "kernelspec": {
      "display_name": "Python 3",
      "language": "python",
      "name": "python3"
    },
    "language_info": {
      "codemirror_mode": {
        "name": "ipython",
        "version": 3
      },
      "file_extension": ".py",
      "mimetype": "text/x-python",
      "name": "python",
      "nbconvert_exporter": "python",
      "pygments_lexer": "ipython3",
      "version": "3.7.6"
    },
    "colab": {
      "name": "Movie review.ipynb",
      "provenance": [],
      "collapsed_sections": [],
      "toc_visible": true
    },
    "accelerator": "GPU"
  },
  "cells": [
    {
      "cell_type": "code",
      "metadata": {
        "id": "zwi-OuOulrKV",
        "colab_type": "code",
        "colab": {}
      },
      "source": [
        "import pandas as pd"
      ],
      "execution_count": 2,
      "outputs": []
    },
    {
      "cell_type": "code",
      "metadata": {
        "id": "UXhbrwkelrKc",
        "colab_type": "code",
        "colab": {}
      },
      "source": [
        "df = pd.read_csv('/content/drive/My Drive/IMDB/IMDB Dataset.csv')"
      ],
      "execution_count": 3,
      "outputs": []
    },
    {
      "cell_type": "code",
      "metadata": {
        "id": "yk-7hoQIlrKh",
        "colab_type": "code",
        "colab": {
          "base_uri": "https://localhost:8080/",
          "height": 195
        },
        "outputId": "7d56c641-6baa-4c7d-9125-4f619247b38b"
      },
      "source": [
        "df.head()"
      ],
      "execution_count": 4,
      "outputs": [
        {
          "output_type": "execute_result",
          "data": {
            "text/html": [
              "<div>\n",
              "<style scoped>\n",
              "    .dataframe tbody tr th:only-of-type {\n",
              "        vertical-align: middle;\n",
              "    }\n",
              "\n",
              "    .dataframe tbody tr th {\n",
              "        vertical-align: top;\n",
              "    }\n",
              "\n",
              "    .dataframe thead th {\n",
              "        text-align: right;\n",
              "    }\n",
              "</style>\n",
              "<table border=\"1\" class=\"dataframe\">\n",
              "  <thead>\n",
              "    <tr style=\"text-align: right;\">\n",
              "      <th></th>\n",
              "      <th>review</th>\n",
              "      <th>sentiment</th>\n",
              "    </tr>\n",
              "  </thead>\n",
              "  <tbody>\n",
              "    <tr>\n",
              "      <th>0</th>\n",
              "      <td>One of the other reviewers has mentioned that ...</td>\n",
              "      <td>positive</td>\n",
              "    </tr>\n",
              "    <tr>\n",
              "      <th>1</th>\n",
              "      <td>A wonderful little production. &lt;br /&gt;&lt;br /&gt;The...</td>\n",
              "      <td>positive</td>\n",
              "    </tr>\n",
              "    <tr>\n",
              "      <th>2</th>\n",
              "      <td>I thought this was a wonderful way to spend ti...</td>\n",
              "      <td>positive</td>\n",
              "    </tr>\n",
              "    <tr>\n",
              "      <th>3</th>\n",
              "      <td>Basically there's a family where a little boy ...</td>\n",
              "      <td>negative</td>\n",
              "    </tr>\n",
              "    <tr>\n",
              "      <th>4</th>\n",
              "      <td>Petter Mattei's \"Love in the Time of Money\" is...</td>\n",
              "      <td>positive</td>\n",
              "    </tr>\n",
              "  </tbody>\n",
              "</table>\n",
              "</div>"
            ],
            "text/plain": [
              "                                              review sentiment\n",
              "0  One of the other reviewers has mentioned that ...  positive\n",
              "1  A wonderful little production. <br /><br />The...  positive\n",
              "2  I thought this was a wonderful way to spend ti...  positive\n",
              "3  Basically there's a family where a little boy ...  negative\n",
              "4  Petter Mattei's \"Love in the Time of Money\" is...  positive"
            ]
          },
          "metadata": {
            "tags": []
          },
          "execution_count": 4
        }
      ]
    },
    {
      "cell_type": "code",
      "metadata": {
        "id": "2vKcqAtolrKo",
        "colab_type": "code",
        "colab": {}
      },
      "source": [
        "df = df.dropna()"
      ],
      "execution_count": 5,
      "outputs": []
    },
    {
      "cell_type": "code",
      "metadata": {
        "id": "uPFGRMU-lrKs",
        "colab_type": "code",
        "colab": {}
      },
      "source": [
        "x=df.drop('sentiment', axis=1)"
      ],
      "execution_count": 6,
      "outputs": []
    },
    {
      "cell_type": "code",
      "metadata": {
        "id": "KSEKwFWRlrKu",
        "colab_type": "code",
        "colab": {}
      },
      "source": [
        "Y=df['sentiment']"
      ],
      "execution_count": 7,
      "outputs": []
    },
    {
      "cell_type": "code",
      "metadata": {
        "id": "jjscriCflrKx",
        "colab_type": "code",
        "colab": {}
      },
      "source": [
        "from tensorflow.keras.layers import Embedding\n",
        "from tensorflow.keras.preprocessing.sequence import pad_sequences\n",
        "from tensorflow.keras.models import Sequential\n",
        "from tensorflow.keras.preprocessing.text import one_hot\n",
        "from tensorflow.keras.layers import LSTM\n",
        "from tensorflow.keras.layers import Dense\n",
        "from tensorflow.keras.layers import Bidirectional\n",
        "from tensorflow.keras.layers import Dropout"
      ],
      "execution_count": 8,
      "outputs": []
    },
    {
      "cell_type": "code",
      "metadata": {
        "id": "suFGKwJKlrK0",
        "colab_type": "code",
        "colab": {}
      },
      "source": [
        "import nltk\n",
        "import re\n",
        "from nltk.corpus import stopwords"
      ],
      "execution_count": 9,
      "outputs": []
    },
    {
      "cell_type": "code",
      "metadata": {
        "id": "GvcBiJaQlrK5",
        "colab_type": "code",
        "colab": {}
      },
      "source": [
        "from bs4 import BeautifulSoup"
      ],
      "execution_count": 10,
      "outputs": []
    },
    {
      "cell_type": "code",
      "metadata": {
        "id": "Ncm5jcM7lrK-",
        "colab_type": "code",
        "colab": {}
      },
      "source": [
        "voc_size=10000"
      ],
      "execution_count": 11,
      "outputs": []
    },
    {
      "cell_type": "code",
      "metadata": {
        "id": "UXwkphWzlrLC",
        "colab_type": "code",
        "colab": {
          "base_uri": "https://localhost:8080/",
          "height": 137
        },
        "outputId": "880a49b4-e273-4beb-df78-849e9644b0b0"
      },
      "source": [
        "messages=x.copy()\n",
        "messages.reset_index(inplace=True)\n",
        "messages['review'][1]"
      ],
      "execution_count": 12,
      "outputs": [
        {
          "output_type": "execute_result",
          "data": {
            "application/vnd.google.colaboratory.intrinsic+json": {
              "type": "string"
            },
            "text/plain": [
              "'A wonderful little production. <br /><br />The filming technique is very unassuming- very old-time-BBC fashion and gives a comforting, and sometimes discomforting, sense of realism to the entire piece. <br /><br />The actors are extremely well chosen- Michael Sheen not only \"has got all the polari\" but he has all the voices down pat too! You can truly see the seamless editing guided by the references to Williams\\' diary entries, not only is it well worth the watching but it is a terrificly written and performed piece. A masterful production about one of the great master\\'s of comedy and his life. <br /><br />The realism really comes home with the little things: the fantasy of the guard which, rather than use the traditional \\'dream\\' techniques remains solid then disappears. It plays on our knowledge and our senses, particularly with the scenes concerning Orton and Halliwell and the sets (particularly of their flat with Halliwell\\'s murals decorating every surface) are terribly well done.'"
            ]
          },
          "metadata": {
            "tags": []
          },
          "execution_count": 12
        }
      ]
    },
    {
      "cell_type": "code",
      "metadata": {
        "id": "IeWkAPZklrLG",
        "colab_type": "code",
        "colab": {
          "base_uri": "https://localhost:8080/",
          "height": 67
        },
        "outputId": "b3c924cc-8313-46da-98d5-d2f2d59508ab"
      },
      "source": [
        "nltk.download('stopwords')"
      ],
      "execution_count": 13,
      "outputs": [
        {
          "output_type": "stream",
          "text": [
            "[nltk_data] Downloading package stopwords to /root/nltk_data...\n",
            "[nltk_data]   Unzipping corpora/stopwords.zip.\n"
          ],
          "name": "stdout"
        },
        {
          "output_type": "execute_result",
          "data": {
            "text/plain": [
              "True"
            ]
          },
          "metadata": {
            "tags": []
          },
          "execution_count": 13
        }
      ]
    },
    {
      "cell_type": "code",
      "metadata": {
        "id": "yO5_pi0tlrLL",
        "colab_type": "code",
        "colab": {}
      },
      "source": [
        "from nltk.stem.porter import PorterStemmer\n",
        "ps= PorterStemmer()\n",
        "corpus=[]"
      ],
      "execution_count": 36,
      "outputs": []
    },
    {
      "cell_type": "code",
      "metadata": {
        "id": "bG07wMitlrLP",
        "colab_type": "code",
        "colab": {}
      },
      "source": [
        "def strip_html(text):\n",
        "    soup = BeautifulSoup(text, \"html.parser\")\n",
        "    return soup.get_text()\n",
        "\n",
        "#Removing the square brackets\n",
        "def remove_between_square_brackets(text):\n",
        "    return re.sub('\\[[^]]*\\]', '', text)\n",
        "\n",
        "#Removing the noisy text\n",
        "def denoise_text(text):\n",
        "    text = strip_html(text)\n",
        "    text = remove_between_square_brackets(text)\n",
        "    return text\n",
        "\n",
        "messages['review'] = messages['review'].apply(denoise_text)"
      ],
      "execution_count": 15,
      "outputs": []
    },
    {
      "cell_type": "code",
      "metadata": {
        "id": "Ik-WnS3ilrLU",
        "colab_type": "code",
        "colab": {}
      },
      "source": [
        "for i in range(0, len(messages)):\n",
        "    texts= re.sub('[^a-zA-Z]', ' ', messages['review'] [i])\n",
        "    texts= texts.lower()\n",
        "    texts= texts.split()\n",
        "    \n",
        "    texts = [ps.stem(word) for word in texts if not word in stopwords.words('english')]\n",
        "    texts = ' '.join(texts)\n",
        "    corpus.append(texts)"
      ],
      "execution_count": 37,
      "outputs": []
    },
    {
      "cell_type": "code",
      "metadata": {
        "id": "q3wv79fhBoYG",
        "colab_type": "code",
        "colab": {
          "base_uri": "https://localhost:8080/",
          "height": 34
        },
        "outputId": "69f8ed68-7537-43ae-82f1-47ea58a690bb"
      },
      "source": [
        "len(corpus)"
      ],
      "execution_count": 44,
      "outputs": [
        {
          "output_type": "execute_result",
          "data": {
            "text/plain": [
              "50000"
            ]
          },
          "metadata": {
            "tags": []
          },
          "execution_count": 44
        }
      ]
    },
    {
      "cell_type": "code",
      "metadata": {
        "id": "HTcCE6PJlrLl",
        "colab_type": "code",
        "colab": {
          "base_uri": "https://localhost:8080/",
          "height": 34
        },
        "outputId": "f3c8fd81-5c8f-482b-8508-d71849d01ec9"
      },
      "source": [
        "onehot_repr = [one_hot(words, voc_size)for words in corpus]\n",
        "len(onehot_repr)"
      ],
      "execution_count": 46,
      "outputs": [
        {
          "output_type": "execute_result",
          "data": {
            "text/plain": [
              "50000"
            ]
          },
          "metadata": {
            "tags": []
          },
          "execution_count": 46
        }
      ]
    },
    {
      "cell_type": "code",
      "metadata": {
        "id": "z0ejLoxGlrLn",
        "colab_type": "code",
        "colab": {
          "base_uri": "https://localhost:8080/",
          "height": 134
        },
        "outputId": "43e4ded4-189e-41c1-9660-5f5d45b9fc8d"
      },
      "source": [
        "sent_length =150\n",
        "embedded_docs=pad_sequences(onehot_repr,padding='pre',maxlen=sent_length)\n",
        "print(embedded_docs)"
      ],
      "execution_count": 47,
      "outputs": [
        {
          "output_type": "stream",
          "text": [
            "[[8287 6013 5306 ... 3127 6269 4812]\n",
            " [   0    0    0 ... 2463 6715 1624]\n",
            " [   0    0    0 ... 2739 1587 2698]\n",
            " ...\n",
            " [   0    0    0 ... 9497  820 2087]\n",
            " [   0    0    0 ... 4759  985 1558]\n",
            " [   0    0    0 ... 7689 3733  944]]\n"
          ],
          "name": "stdout"
        }
      ]
    },
    {
      "cell_type": "code",
      "metadata": {
        "id": "MSfcwFkHlrLp",
        "colab_type": "code",
        "colab": {
          "base_uri": "https://localhost:8080/",
          "height": 252
        },
        "outputId": "0d089b44-3062-44f9-ee72-e7ba9fe0d67b"
      },
      "source": [
        "embedded_docs[0]"
      ],
      "execution_count": 39,
      "outputs": [
        {
          "output_type": "execute_result",
          "data": {
            "text/plain": [
              "array([8287, 6013, 5306, 3456, 3841, 2275, 6785, 6604, 8456, 2739,  253,\n",
              "       8657, 6325, 2808,  101, 8657, 3095,  461, 2136, 8520, 5278, 2275,\n",
              "       2185, 4925, 2472, 8456, 9048, 6013, 4317, 5886, 4825, 6197, 1624,\n",
              "       3992, 9154, 9288, 3769, 5866, 3368, 2428, 3575, 3642, 6585, 4525,\n",
              "       3620, 7392, 8008, 2068, 3225, 5131, 8923, 3368, 8453, 4724,  978,\n",
              "       4950,  285, 4359, 2087, 8827, 2613, 3863, 9324, 7976,  586, 5331,\n",
              "       3772, 2851, 8462, 4661, 3441, 1776, 3938, 1642, 8073, 8657, 3169,\n",
              "       8460, 8000, 8657, 8281, 4192, 4909, 2483,  425, 3742, 1269, 4192,\n",
              "       4554, 4192, 1088, 6013, 1558, 1646, 4040, 9381, 6180, 8187, 8287,\n",
              "       9509, 4492, 3938,  550, 6356, 9390, 5700, 6013, 5030, 8924, 3225,\n",
              "       6756, 3501, 2275, 2275, 2565, 7768, 1852, 5335, 5292, 9933, 9123,\n",
              "       1503, 8854, 3441, 6715, 2364, 4020, 3426, 9933, 7090, 3642, 6514,\n",
              "       3169, 8493, 3045, 3822, 3642, 5229, 6356, 6013, 4935, 2027, 4025,\n",
              "       5233, 2599, 2715, 8854, 3127, 6269, 4812], dtype=int32)"
            ]
          },
          "metadata": {
            "tags": []
          },
          "execution_count": 39
        }
      ]
    },
    {
      "cell_type": "code",
      "metadata": {
        "id": "2NhE2kED6jLe",
        "colab_type": "code",
        "colab": {
          "base_uri": "https://localhost:8080/",
          "height": 269
        },
        "outputId": "21f75b76-f00b-4962-cf42-f0259e7259f8"
      },
      "source": [
        "embedding_vector_features=40\n",
        "model=Sequential()\n",
        "model.add(Embedding(voc_size,embedding_vector_features,input_length=sent_length))\n",
        "model.add(LSTM(100))\n",
        "model.add(Dense(1,activation='sigmoid'))\n",
        "model.compile(loss='binary_crossentropy',optimizer='adam',metrics=['accuracy'])\n",
        "print(model.summary())"
      ],
      "execution_count": 49,
      "outputs": [
        {
          "output_type": "stream",
          "text": [
            "Model: \"sequential_4\"\n",
            "_________________________________________________________________\n",
            "Layer (type)                 Output Shape              Param #   \n",
            "=================================================================\n",
            "embedding_4 (Embedding)      (None, 150, 40)           400000    \n",
            "_________________________________________________________________\n",
            "lstm_4 (LSTM)                (None, 100)               56400     \n",
            "_________________________________________________________________\n",
            "dense_4 (Dense)              (None, 1)                 101       \n",
            "=================================================================\n",
            "Total params: 456,501\n",
            "Trainable params: 456,501\n",
            "Non-trainable params: 0\n",
            "_________________________________________________________________\n",
            "None\n"
          ],
          "name": "stdout"
        }
      ]
    },
    {
      "cell_type": "code",
      "metadata": {
        "id": "EkVrDrFF6jOh",
        "colab_type": "code",
        "colab": {
          "base_uri": "https://localhost:8080/",
          "height": 302
        },
        "outputId": "c21530ae-eab5-4313-e525-4b9199e82209"
      },
      "source": [
        "embedding_vector_features=40\n",
        "model1=Sequential()\n",
        "model1.add(Embedding(voc_size,embedding_vector_features,input_length=sent_length))\n",
        "model1.add(Bidirectional(LSTM(100)))\n",
        "model1.add(Dropout(0.3))\n",
        "model1.add(Dense(1,activation='sigmoid'))\n",
        "model1.compile(loss='binary_crossentropy',optimizer='adam',metrics=['accuracy'])\n",
        "print(model1.summary())"
      ],
      "execution_count": 50,
      "outputs": [
        {
          "output_type": "stream",
          "text": [
            "Model: \"sequential_5\"\n",
            "_________________________________________________________________\n",
            "Layer (type)                 Output Shape              Param #   \n",
            "=================================================================\n",
            "embedding_5 (Embedding)      (None, 150, 40)           400000    \n",
            "_________________________________________________________________\n",
            "bidirectional_2 (Bidirection (None, 200)               112800    \n",
            "_________________________________________________________________\n",
            "dropout_2 (Dropout)          (None, 200)               0         \n",
            "_________________________________________________________________\n",
            "dense_5 (Dense)              (None, 1)                 201       \n",
            "=================================================================\n",
            "Total params: 513,001\n",
            "Trainable params: 513,001\n",
            "Non-trainable params: 0\n",
            "_________________________________________________________________\n",
            "None\n"
          ],
          "name": "stdout"
        }
      ]
    },
    {
      "cell_type": "code",
      "metadata": {
        "id": "3WLYleoB6jTS",
        "colab_type": "code",
        "colab": {
          "base_uri": "https://localhost:8080/",
          "height": 34
        },
        "outputId": "15350852-1de9-472f-c4c9-3629f2b47d61"
      },
      "source": [
        "len(embedded_docs),Y.shape"
      ],
      "execution_count": 51,
      "outputs": [
        {
          "output_type": "execute_result",
          "data": {
            "text/plain": [
              "(50000, (50000,))"
            ]
          },
          "metadata": {
            "tags": []
          },
          "execution_count": 51
        }
      ]
    },
    {
      "cell_type": "code",
      "metadata": {
        "id": "HrQocYDr6jUy",
        "colab_type": "code",
        "colab": {}
      },
      "source": [
        "from sklearn.preprocessing import LabelEncoder\n",
        "Y= LabelEncoder().fit_transform(Y)"
      ],
      "execution_count": 53,
      "outputs": []
    },
    {
      "cell_type": "code",
      "metadata": {
        "id": "e6Qjjxsq6jXK",
        "colab_type": "code",
        "colab": {}
      },
      "source": [
        "import numpy as np\n",
        "x=np.array(embedded_docs)\n",
        "Y=np.array(Y)"
      ],
      "execution_count": 54,
      "outputs": []
    },
    {
      "cell_type": "code",
      "metadata": {
        "id": "C_QB-zjN6jZP",
        "colab_type": "code",
        "colab": {
          "base_uri": "https://localhost:8080/",
          "height": 34
        },
        "outputId": "7e172e2c-bed9-4ca4-cf1a-2b5a94026599"
      },
      "source": [
        "x.shape, Y.shape"
      ],
      "execution_count": 55,
      "outputs": [
        {
          "output_type": "execute_result",
          "data": {
            "text/plain": [
              "((50000, 150), (50000,))"
            ]
          },
          "metadata": {
            "tags": []
          },
          "execution_count": 55
        }
      ]
    },
    {
      "cell_type": "code",
      "metadata": {
        "id": "FfA6jr6C6jbn",
        "colab_type": "code",
        "colab": {}
      },
      "source": [
        "from sklearn.model_selection import train_test_split\n",
        "X_train, X_test, y_train, y_test = train_test_split(x, Y, test_size=0.33, random_state=42)"
      ],
      "execution_count": 56,
      "outputs": []
    },
    {
      "cell_type": "code",
      "metadata": {
        "id": "x9frAXVG6jfM",
        "colab_type": "code",
        "colab": {
          "base_uri": "https://localhost:8080/",
          "height": 370
        },
        "outputId": "f3918c58-9fea-4f8f-b701-c043c5833a43"
      },
      "source": [
        "model.fit(X_train,y_train,validation_data=(X_test,y_test),epochs=10,batch_size=64)"
      ],
      "execution_count": 57,
      "outputs": [
        {
          "output_type": "stream",
          "text": [
            "Epoch 1/10\n",
            "524/524 [==============================] - 8s 16ms/step - loss: 0.4101 - accuracy: 0.8155 - val_loss: 0.3033 - val_accuracy: 0.8730\n",
            "Epoch 2/10\n",
            "524/524 [==============================] - 8s 15ms/step - loss: 0.2608 - accuracy: 0.8955 - val_loss: 0.3079 - val_accuracy: 0.8718\n",
            "Epoch 3/10\n",
            "524/524 [==============================] - 8s 15ms/step - loss: 0.2159 - accuracy: 0.9175 - val_loss: 0.3208 - val_accuracy: 0.8696\n",
            "Epoch 4/10\n",
            "524/524 [==============================] - 8s 15ms/step - loss: 0.1722 - accuracy: 0.9357 - val_loss: 0.3608 - val_accuracy: 0.8633\n",
            "Epoch 5/10\n",
            "524/524 [==============================] - 8s 15ms/step - loss: 0.1369 - accuracy: 0.9500 - val_loss: 0.4090 - val_accuracy: 0.8543\n",
            "Epoch 6/10\n",
            "524/524 [==============================] - 8s 15ms/step - loss: 0.1152 - accuracy: 0.9591 - val_loss: 0.4325 - val_accuracy: 0.8482\n",
            "Epoch 7/10\n",
            "524/524 [==============================] - 8s 15ms/step - loss: 0.0984 - accuracy: 0.9663 - val_loss: 0.4921 - val_accuracy: 0.8523\n",
            "Epoch 8/10\n",
            "524/524 [==============================] - 8s 15ms/step - loss: 0.0807 - accuracy: 0.9734 - val_loss: 0.5341 - val_accuracy: 0.8481\n",
            "Epoch 9/10\n",
            "524/524 [==============================] - 8s 15ms/step - loss: 0.0614 - accuracy: 0.9793 - val_loss: 0.6424 - val_accuracy: 0.8461\n",
            "Epoch 10/10\n",
            "524/524 [==============================] - 8s 15ms/step - loss: 0.0538 - accuracy: 0.9829 - val_loss: 0.6439 - val_accuracy: 0.8452\n"
          ],
          "name": "stdout"
        },
        {
          "output_type": "execute_result",
          "data": {
            "text/plain": [
              "<tensorflow.python.keras.callbacks.History at 0x7fdd95c94898>"
            ]
          },
          "metadata": {
            "tags": []
          },
          "execution_count": 57
        }
      ]
    },
    {
      "cell_type": "code",
      "metadata": {
        "id": "vg40VvQk6jh2",
        "colab_type": "code",
        "colab": {
          "base_uri": "https://localhost:8080/",
          "height": 370
        },
        "outputId": "a6cad4f6-bd35-4c6e-8b57-9573b561f3b6"
      },
      "source": [
        "model1.fit(X_train,y_train,validation_data=(X_test,y_test),epochs=10,batch_size=64)"
      ],
      "execution_count": 58,
      "outputs": [
        {
          "output_type": "stream",
          "text": [
            "Epoch 1/10\n",
            "524/524 [==============================] - 13s 24ms/step - loss: 0.4004 - accuracy: 0.8120 - val_loss: 0.3601 - val_accuracy: 0.8634\n",
            "Epoch 2/10\n",
            "524/524 [==============================] - 12s 23ms/step - loss: 0.2635 - accuracy: 0.8956 - val_loss: 0.3312 - val_accuracy: 0.8711\n",
            "Epoch 3/10\n",
            "524/524 [==============================] - 12s 23ms/step - loss: 0.2157 - accuracy: 0.9163 - val_loss: 0.3274 - val_accuracy: 0.8660\n",
            "Epoch 4/10\n",
            "524/524 [==============================] - 12s 23ms/step - loss: 0.1798 - accuracy: 0.9319 - val_loss: 0.3648 - val_accuracy: 0.8636\n",
            "Epoch 5/10\n",
            "524/524 [==============================] - 12s 23ms/step - loss: 0.1504 - accuracy: 0.9433 - val_loss: 0.4318 - val_accuracy: 0.8610\n",
            "Epoch 6/10\n",
            "524/524 [==============================] - 12s 23ms/step - loss: 0.1347 - accuracy: 0.9509 - val_loss: 0.4386 - val_accuracy: 0.8567\n",
            "Epoch 7/10\n",
            "524/524 [==============================] - 12s 23ms/step - loss: 0.1115 - accuracy: 0.9603 - val_loss: 0.4572 - val_accuracy: 0.8514\n",
            "Epoch 8/10\n",
            "524/524 [==============================] - 12s 23ms/step - loss: 0.0794 - accuracy: 0.9722 - val_loss: 0.5747 - val_accuracy: 0.8512\n",
            "Epoch 9/10\n",
            "524/524 [==============================] - 13s 24ms/step - loss: 0.0732 - accuracy: 0.9753 - val_loss: 0.5594 - val_accuracy: 0.8424\n",
            "Epoch 10/10\n",
            "524/524 [==============================] - 12s 23ms/step - loss: 0.0572 - accuracy: 0.9824 - val_loss: 0.6808 - val_accuracy: 0.8465\n"
          ],
          "name": "stdout"
        },
        {
          "output_type": "execute_result",
          "data": {
            "text/plain": [
              "<tensorflow.python.keras.callbacks.History at 0x7fddb4e8bf60>"
            ]
          },
          "metadata": {
            "tags": []
          },
          "execution_count": 58
        }
      ]
    },
    {
      "cell_type": "code",
      "metadata": {
        "id": "qTLEQPKF6jk-",
        "colab_type": "code",
        "colab": {
          "base_uri": "https://localhost:8080/",
          "height": 87
        },
        "outputId": "340db6d3-1828-4119-fcec-0e4a6f2a7331"
      },
      "source": [
        "y_pred1=model1.predict_classes(X_test)"
      ],
      "execution_count": 59,
      "outputs": [
        {
          "output_type": "stream",
          "text": [
            "WARNING:tensorflow:From <ipython-input-59-ccbb315231b5>:1: Sequential.predict_classes (from tensorflow.python.keras.engine.sequential) is deprecated and will be removed after 2021-01-01.\n",
            "Instructions for updating:\n",
            "Please use instead:* `np.argmax(model.predict(x), axis=-1)`,   if your model does multi-class classification   (e.g. if it uses a `softmax` last-layer activation).* `(model.predict(x) > 0.5).astype(\"int32\")`,   if your model does binary classification   (e.g. if it uses a `sigmoid` last-layer activation).\n"
          ],
          "name": "stdout"
        }
      ]
    },
    {
      "cell_type": "code",
      "metadata": {
        "id": "iVoPIUS26joW",
        "colab_type": "code",
        "colab": {
          "base_uri": "https://localhost:8080/",
          "height": 50
        },
        "outputId": "0170a57a-8a76-4a60-978a-fdf2c8f68cba"
      },
      "source": [
        "from sklearn.metrics import confusion_matrix\n",
        "confusion_matrix(y_test,y_pred1)"
      ],
      "execution_count": 60,
      "outputs": [
        {
          "output_type": "execute_result",
          "data": {
            "text/plain": [
              "array([[7114, 1094],\n",
              "       [1439, 6853]])"
            ]
          },
          "metadata": {
            "tags": []
          },
          "execution_count": 60
        }
      ]
    },
    {
      "cell_type": "code",
      "metadata": {
        "id": "whoq5zd96jd7",
        "colab_type": "code",
        "colab": {
          "base_uri": "https://localhost:8080/",
          "height": 34
        },
        "outputId": "3980be3d-998b-4a6b-baf5-22314d1a6702"
      },
      "source": [
        "from sklearn.metrics import accuracy_score\n",
        "accuracy_score(y_test,y_pred1)"
      ],
      "execution_count": 61,
      "outputs": [
        {
          "output_type": "execute_result",
          "data": {
            "text/plain": [
              "0.8464848484848485"
            ]
          },
          "metadata": {
            "tags": []
          },
          "execution_count": 61
        }
      ]
    },
    {
      "cell_type": "code",
      "metadata": {
        "id": "ZIHirfM0_1BM",
        "colab_type": "code",
        "colab": {
          "base_uri": "https://localhost:8080/",
          "height": 168
        },
        "outputId": "0b235a49-a1b4-4e2b-b166-debf0e1d141d"
      },
      "source": [
        "from sklearn.metrics import classification_report\n",
        "print(classification_report(y_test,y_pred1))"
      ],
      "execution_count": 62,
      "outputs": [
        {
          "output_type": "stream",
          "text": [
            "              precision    recall  f1-score   support\n",
            "\n",
            "           0       0.83      0.87      0.85      8208\n",
            "           1       0.86      0.83      0.84      8292\n",
            "\n",
            "    accuracy                           0.85     16500\n",
            "   macro avg       0.85      0.85      0.85     16500\n",
            "weighted avg       0.85      0.85      0.85     16500\n",
            "\n"
          ],
          "name": "stdout"
        }
      ]
    },
    {
      "cell_type": "code",
      "metadata": {
        "id": "pT1buc6r_1Dy",
        "colab_type": "code",
        "colab": {}
      },
      "source": [
        ""
      ],
      "execution_count": null,
      "outputs": []
    },
    {
      "cell_type": "code",
      "metadata": {
        "id": "_hh_ZfOS_1Gj",
        "colab_type": "code",
        "colab": {}
      },
      "source": [
        ""
      ],
      "execution_count": null,
      "outputs": []
    },
    {
      "cell_type": "code",
      "metadata": {
        "id": "d25cb5t2_1JZ",
        "colab_type": "code",
        "colab": {}
      },
      "source": [
        ""
      ],
      "execution_count": null,
      "outputs": []
    },
    {
      "cell_type": "code",
      "metadata": {
        "id": "SA9AWy0n_1M8",
        "colab_type": "code",
        "colab": {}
      },
      "source": [
        ""
      ],
      "execution_count": null,
      "outputs": []
    },
    {
      "cell_type": "code",
      "metadata": {
        "id": "DFe31aKw_1Pr",
        "colab_type": "code",
        "colab": {}
      },
      "source": [
        ""
      ],
      "execution_count": null,
      "outputs": []
    },
    {
      "cell_type": "code",
      "metadata": {
        "id": "k448F-0Z_1S8",
        "colab_type": "code",
        "colab": {}
      },
      "source": [
        ""
      ],
      "execution_count": null,
      "outputs": []
    },
    {
      "cell_type": "code",
      "metadata": {
        "id": "IODSLk26_1Lf",
        "colab_type": "code",
        "colab": {}
      },
      "source": [
        ""
      ],
      "execution_count": null,
      "outputs": []
    }
  ]
}